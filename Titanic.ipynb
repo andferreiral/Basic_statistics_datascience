{
 "cells": [
  {
   "cell_type": "markdown",
   "metadata": {},
   "source": [
    "### Authors:\n",
    "    ANDREY FERREIRA DE ALMEIDA - R.A: 816118662\n",
    "    BRUNA CAMARINI VIEIRA NUNES - R.A: 8162257981\n",
    "    KAUE VICTOR PAZ GARCIA MIRKAI - R.A: 81613004\n",
    "    MAXWELL OLIVEIRA SANTOS - R.A: 816119425"
   ]
  },
  {
   "cell_type": "code",
   "execution_count": 1,
   "metadata": {},
   "outputs": [],
   "source": [
    "# Libraries\n",
    "%matplotlib inline\n",
    "from matplotlib import pyplot as plt\n",
    "from pydataset import data as dt\n",
    "import pandas as pd\n",
    "import numpy as np\n",
    "import statistics as st\n",
    "import stemgraphic as ste"
   ]
  },
  {
   "cell_type": "code",
   "execution_count": 2,
   "metadata": {},
   "outputs": [
    {
     "name": "stdout",
     "output_type": "stream",
     "text": [
      "titanic\n",
      "\n",
      "PyDataset Documentation (adopted from R Documentation. The displayed examples are in R)\n",
      "\n",
      "## titanic\n",
      "\n",
      "### Description\n",
      "\n",
      "The data is an observation-based version of the 1912 Titanic passenger\n",
      "survival log,\n",
      "\n",
      "### Usage\n",
      "\n",
      "    data(titanic)\n",
      "\n",
      "### Format\n",
      "\n",
      "A data frame with 1316 observations on the following 4 variables.\n",
      "\n",
      "`class`\n",
      "\n",
      "a factor with levels `1st class` `2nd class` `3rd class` `crew`\n",
      "\n",
      "`age`\n",
      "\n",
      "a factor with levels `child` `adults`\n",
      "\n",
      "`sex`\n",
      "\n",
      "a factor with levels `women` `man`\n",
      "\n",
      "`survived`\n",
      "\n",
      "a factor with levels `no` `yes`\n",
      "\n",
      "### Details\n",
      "\n",
      "titanic is saved as a data frame. Used to assess risk ratios\n",
      "\n",
      "### Source\n",
      "\n",
      "Found in many other texts\n",
      "\n",
      "### References\n",
      "\n",
      "Hilbe, Joseph M (2014), Modeling Count Data, Cambridge University Press Hilbe,\n",
      "Joseph M (2007, 2011), Negative Binomial Regression, Cambridge University\n",
      "Press Hilbe, Joseph M (2009), Logistic Regression Models, Chapman & Hall/CRC\n",
      "\n",
      "### Examples\n",
      "\n",
      "    data(titanic)\n",
      "    titanic$survival <- titanic$survived == \"yes\"\n",
      "    glmlr <- glm(survival ~ age + sex + factor(class), family=binomial, data=titanic)\n",
      "    summary(glmlr)\n",
      "\n",
      "\n"
     ]
    }
   ],
   "source": [
    "# Dotaset documentation\n",
    "# pip install pydataset\n",
    "dt('titanic', show_doc=True)"
   ]
  },
  {
   "cell_type": "code",
   "execution_count": 3,
   "metadata": {},
   "outputs": [],
   "source": [
    "titanic = dt('titanic')"
   ]
  },
  {
   "cell_type": "markdown",
   "metadata": {},
   "source": [
    "##    Exercício 01. Faça um head() dos conjuntos de dados."
   ]
  },
  {
   "cell_type": "code",
   "execution_count": 4,
   "metadata": {},
   "outputs": [
    {
     "data": {
      "text/html": [
       "<div>\n",
       "<style scoped>\n",
       "    .dataframe tbody tr th:only-of-type {\n",
       "        vertical-align: middle;\n",
       "    }\n",
       "\n",
       "    .dataframe tbody tr th {\n",
       "        vertical-align: top;\n",
       "    }\n",
       "\n",
       "    .dataframe thead th {\n",
       "        text-align: right;\n",
       "    }\n",
       "</style>\n",
       "<table border=\"1\" class=\"dataframe\">\n",
       "  <thead>\n",
       "    <tr style=\"text-align: right;\">\n",
       "      <th></th>\n",
       "      <th>class</th>\n",
       "      <th>age</th>\n",
       "      <th>sex</th>\n",
       "      <th>survived</th>\n",
       "    </tr>\n",
       "  </thead>\n",
       "  <tbody>\n",
       "    <tr>\n",
       "      <th>1</th>\n",
       "      <td>1st class</td>\n",
       "      <td>adults</td>\n",
       "      <td>man</td>\n",
       "      <td>yes</td>\n",
       "    </tr>\n",
       "    <tr>\n",
       "      <th>2</th>\n",
       "      <td>1st class</td>\n",
       "      <td>adults</td>\n",
       "      <td>man</td>\n",
       "      <td>yes</td>\n",
       "    </tr>\n",
       "    <tr>\n",
       "      <th>3</th>\n",
       "      <td>1st class</td>\n",
       "      <td>adults</td>\n",
       "      <td>man</td>\n",
       "      <td>yes</td>\n",
       "    </tr>\n",
       "    <tr>\n",
       "      <th>4</th>\n",
       "      <td>1st class</td>\n",
       "      <td>adults</td>\n",
       "      <td>man</td>\n",
       "      <td>yes</td>\n",
       "    </tr>\n",
       "    <tr>\n",
       "      <th>5</th>\n",
       "      <td>1st class</td>\n",
       "      <td>adults</td>\n",
       "      <td>man</td>\n",
       "      <td>yes</td>\n",
       "    </tr>\n",
       "    <tr>\n",
       "      <th>6</th>\n",
       "      <td>1st class</td>\n",
       "      <td>adults</td>\n",
       "      <td>man</td>\n",
       "      <td>yes</td>\n",
       "    </tr>\n",
       "    <tr>\n",
       "      <th>7</th>\n",
       "      <td>1st class</td>\n",
       "      <td>adults</td>\n",
       "      <td>man</td>\n",
       "      <td>yes</td>\n",
       "    </tr>\n",
       "    <tr>\n",
       "      <th>8</th>\n",
       "      <td>1st class</td>\n",
       "      <td>adults</td>\n",
       "      <td>man</td>\n",
       "      <td>yes</td>\n",
       "    </tr>\n",
       "    <tr>\n",
       "      <th>9</th>\n",
       "      <td>1st class</td>\n",
       "      <td>adults</td>\n",
       "      <td>man</td>\n",
       "      <td>yes</td>\n",
       "    </tr>\n",
       "    <tr>\n",
       "      <th>10</th>\n",
       "      <td>1st class</td>\n",
       "      <td>adults</td>\n",
       "      <td>man</td>\n",
       "      <td>yes</td>\n",
       "    </tr>\n",
       "  </tbody>\n",
       "</table>\n",
       "</div>"
      ],
      "text/plain": [
       "        class     age  sex survived\n",
       "1   1st class  adults  man      yes\n",
       "2   1st class  adults  man      yes\n",
       "3   1st class  adults  man      yes\n",
       "4   1st class  adults  man      yes\n",
       "5   1st class  adults  man      yes\n",
       "6   1st class  adults  man      yes\n",
       "7   1st class  adults  man      yes\n",
       "8   1st class  adults  man      yes\n",
       "9   1st class  adults  man      yes\n",
       "10  1st class  adults  man      yes"
      ]
     },
     "execution_count": 4,
     "metadata": {},
     "output_type": "execute_result"
    }
   ],
   "source": [
    "#showing 10 first values\n",
    "titanic.head(n=10)"
   ]
  },
  {
   "cell_type": "markdown",
   "metadata": {},
   "source": [
    "##    Exercício 02. Construa uma distribuição de frequência completa para as variáveis categóricas dos conjuntos de dados."
   ]
  },
  {
   "cell_type": "code",
   "execution_count": 5,
   "metadata": {},
   "outputs": [
    {
     "name": "stdout",
     "output_type": "stream",
     "text": [
      "--------------------------------------------------\n",
      "  Column      Value   Fi       fi%   Fai      fai%\n",
      "0  class  3rd class  706  0.536474   706  0.536474\n",
      "1  class  1st class  325  0.246960  1031  0.783435\n",
      "2  class  2nd class  285  0.216565  1316  1.000000\n",
      "--------------------------------------------------\n",
      "  Column   Value    Fi       fi%   Fai      fai%\n",
      "0    age  adults  1207  0.917173  1207  0.917173\n",
      "1    age   child   109  0.082827  1316  1.000000\n",
      "--------------------------------------------------\n",
      "  Column  Value   Fi       fi%   Fai      fai%\n",
      "0    sex    man  869  0.660334   869  0.660334\n",
      "1    sex  women  447  0.339666  1316  1.000000\n",
      "--------------------------------------------------\n",
      "     Column Value   Fi       fi%   Fai      fai%\n",
      "0  survived    no  817  0.620821   817  0.620821\n",
      "1  survived   yes  499  0.379179  1316  1.000000\n"
     ]
    }
   ],
   "source": [
    "#Iterating through all columns of the given dataset\n",
    "for metric in list(titanic.columns):\n",
    "    absolute, relative = titanic[metric].value_counts(), titanic[metric].value_counts(normalize=True)\n",
    "    print(50*'-')\n",
    "    dict_results = {'Column': metric,\n",
    "                     'Value': list(absolute.index), \n",
    "                     'Fi': list(absolute), #Frequencia absoluta\n",
    "                     'fi%': list(relative), #Frequencia relativa\n",
    "                     'Fai': list(np.cumsum(absolute)), #Frequencia acumulada absoluta\n",
    "                     'fai%': list(np.cumsum(relative))} #Frequencia acumulada relativa                \n",
    "    df_results = pd.DataFrame(dict_results)\n",
    "    print(df_results)"
   ]
  },
  {
   "cell_type": "markdown",
   "metadata": {},
   "source": [
    "##    Exercício 03. Construa gráficos adequados para representar:\n",
    "###    a) Titanic: sobreviventes por categoria; mortos por sexo e idade."
   ]
  },
  {
   "cell_type": "code",
   "execution_count": 6,
   "metadata": {},
   "outputs": [
    {
     "data": {
      "image/png": "[encoded data removed]",
      "text/plain": [
       "<Figure size 432x288 with 1 Axes>"
      ]
     },
     "metadata": {},
     "output_type": "display_data"
    }
   ],
   "source": [
    "# Graph 'sobreviventes por categoria'\n",
    "titanic[titanic['survived']=='yes'].groupby('class')['survived'].value_counts().plot(kind='barh', \n",
    "                                                                                     title='Survivelance per class', \n",
    "                                                                                     grid=False, \n",
    "                                                                                     fontsize=12)\n",
    "plt.ylabel('Class, Survivelance')\n",
    "plt.xlabel('Absolute Frequence')\n",
    "\n",
    "nr_labels = list(titanic[titanic['survived']=='yes'].groupby('class')['survived'].value_counts())\n",
    "\n",
    "for i, v in enumerate(nr_labels):\n",
    "    plt.text(x = v + 12, y = i - .10, s= str(v), color='k', fontsize=12)\n",
    "\n",
    "plt.show()"
   ]
  },
  {
   "cell_type": "code",
   "execution_count": 7,
   "metadata": {},
   "outputs": [
    {
     "data": {
      "image/png": "[encoded data removed]",
      "text/plain": [
       "<Figure size 432x288 with 1 Axes>"
      ]
     },
     "metadata": {},
     "output_type": "display_data"
    }
   ],
   "source": [
    "# Graph 'mortos por sexo e idade'\n",
    "titanic[titanic['survived']=='no'].groupby(['sex', 'age'])['survived'].value_counts().plot(kind='barh', \n",
    "                                                                                           title='Survivelance per sex and age', \n",
    "                                                                                           grid=False, fontsize=12)\n",
    "plt.ylabel('Sex, Age, Survivelance')\n",
    "plt.xlabel('Absolute Frequence')\n",
    "\n",
    "nr_labels = list(titanic[titanic['survived']=='no'].groupby(['sex', 'age'])['survived'].value_counts())\n",
    "\n",
    "for i, v in enumerate(nr_labels):\n",
    "    plt.text(x = v + 40, y = i - .10, s= str(v), color='k', fontsize=12)\n",
    "\n",
    "plt.show()"
   ]
  },
  {
   "cell_type": "markdown",
   "metadata": {},
   "source": [
    "##    Exercício 04. Construa histogramas para:\n",
    "###    a) Titanic: categoria"
   ]
  },
  {
   "cell_type": "code",
   "execution_count": 8,
   "metadata": {},
   "outputs": [
    {
     "name": "stdout",
     "output_type": "stream",
     "text": [
      "3rd class    706\n",
      "1st class    325\n",
      "2nd class    285\n",
      "Name: class, dtype: int64\n"
     ]
    },
    {
     "data": {
      "image/png": "[encoded data removed]",
      "text/plain": [
       "<Figure size 432x288 with 1 Axes>"
      ]
     },
     "metadata": {},
     "output_type": "display_data"
    }
   ],
   "source": [
    "# Graph histogram\n",
    "print(titanic['class'].value_counts())\n",
    "titanic['class'].value_counts().plot(kind='hist', title='Histogram Category', fontsize=12, color='#607c8e')\n",
    "plt.grid(axis='y', alpha=0.75)\n",
    "plt.ylim(0, 2.10)\n",
    "plt.xlim(250, 750)\n",
    "plt.show()"
   ]
  },
  {
   "cell_type": "markdown",
   "metadata": {},
   "source": [
    "##    Exercício 05. Construa diagramas de ramos e folhas para:\n",
    "###    a) Titanic: categoria"
   ]
  },
  {
   "cell_type": "code",
   "execution_count": 9,
   "metadata": {},
   "outputs": [
    {
     "data": {
      "image/png": "[encoded data removed]",
      "text/plain": [
       "<Figure size 540x162 with 1 Axes>"
      ]
     },
     "metadata": {},
     "output_type": "display_data"
    }
   ],
   "source": [
    "# pip install stemgraphic\n",
    "graph = ste.stem_graphic(titanic.groupby('class').size())\n",
    "plt.show(graph)"
   ]
  },
  {
   "cell_type": "markdown",
   "metadata": {},
   "source": [
    "##    Exercício 06. Calcule a média aritmética para classe no Titanic"
   ]
  },
  {
   "cell_type": "code",
   "execution_count": 10,
   "metadata": {},
   "outputs": [
    {
     "data": {
      "text/plain": [
       "438.6666666666667"
      ]
     },
     "execution_count": 10,
     "metadata": {},
     "output_type": "execute_result"
    }
   ],
   "source": [
    "titanic.groupby('class').size().mean()"
   ]
  },
  {
   "cell_type": "markdown",
   "metadata": {},
   "source": [
    "##    Exercício 07. Calcule a moda para classe no Titanic"
   ]
  },
  {
   "cell_type": "code",
   "execution_count": 11,
   "metadata": {},
   "outputs": [
    {
     "data": {
      "text/plain": [
       "class\n",
       "3rd class    706\n",
       "dtype: int64"
      ]
     },
     "execution_count": 11,
     "metadata": {},
     "output_type": "execute_result"
    }
   ],
   "source": [
    "result_moda = list(titanic['class'].mode())\n",
    "titanic[titanic['class']==result_moda[0]].groupby('class').size()"
   ]
  },
  {
   "cell_type": "markdown",
   "metadata": {},
   "source": [
    "##    Exercício 08. Calcule a mediana para classe no Titanic"
   ]
  },
  {
   "cell_type": "code",
   "execution_count": 12,
   "metadata": {},
   "outputs": [
    {
     "data": {
      "text/plain": [
       "325.0"
      ]
     },
     "execution_count": 12,
     "metadata": {},
     "output_type": "execute_result"
    }
   ],
   "source": [
    "titanic.groupby('class').size().median()"
   ]
  },
  {
   "cell_type": "markdown",
   "metadata": {},
   "source": [
    "##    Exercício 09. Calcule as medidas de dispersão para classe no Titanic"
   ]
  },
  {
   "cell_type": "code",
   "execution_count": 13,
   "metadata": {},
   "outputs": [
    {
     "data": {
      "text/html": [
       "<div>\n",
       "<style scoped>\n",
       "    .dataframe tbody tr th:only-of-type {\n",
       "        vertical-align: middle;\n",
       "    }\n",
       "\n",
       "    .dataframe tbody tr th {\n",
       "        vertical-align: top;\n",
       "    }\n",
       "\n",
       "    .dataframe thead th {\n",
       "        text-align: right;\n",
       "    }\n",
       "</style>\n",
       "<table border=\"1\" class=\"dataframe\">\n",
       "  <thead>\n",
       "    <tr style=\"text-align: right;\">\n",
       "      <th></th>\n",
       "      <th>Dispersion Metric</th>\n",
       "      <th>Result</th>\n",
       "    </tr>\n",
       "  </thead>\n",
       "  <tbody>\n",
       "    <tr>\n",
       "      <th>0</th>\n",
       "      <td>Total Amplitude</td>\n",
       "      <td>421.000000</td>\n",
       "    </tr>\n",
       "    <tr>\n",
       "      <th>1</th>\n",
       "      <td>Interquart. Ampli.</td>\n",
       "      <td>210.500000</td>\n",
       "    </tr>\n",
       "    <tr>\n",
       "      <th>2</th>\n",
       "      <td>semi-interquar. Ampl.</td>\n",
       "      <td>105.250000</td>\n",
       "    </tr>\n",
       "    <tr>\n",
       "      <th>3</th>\n",
       "      <td>Mean Deviation</td>\n",
       "      <td>178.222222</td>\n",
       "    </tr>\n",
       "    <tr>\n",
       "      <th>4</th>\n",
       "      <td>Standard Deviation</td>\n",
       "      <td>232.379718</td>\n",
       "    </tr>\n",
       "    <tr>\n",
       "      <th>5</th>\n",
       "      <td>Variance</td>\n",
       "      <td>54000.333333</td>\n",
       "    </tr>\n",
       "    <tr>\n",
       "      <th>6</th>\n",
       "      <td>Coefficient Variation</td>\n",
       "      <td>0.529741</td>\n",
       "    </tr>\n",
       "  </tbody>\n",
       "</table>\n",
       "</div>"
      ],
      "text/plain": [
       "       Dispersion Metric        Result\n",
       "0        Total Amplitude    421.000000\n",
       "1     Interquart. Ampli.    210.500000\n",
       "2  semi-interquar. Ampl.    105.250000\n",
       "3         Mean Deviation    178.222222\n",
       "4     Standard Deviation    232.379718\n",
       "5               Variance  54000.333333\n",
       "6  Coefficient Variation      0.529741"
      ]
     },
     "execution_count": 13,
     "metadata": {},
     "output_type": "execute_result"
    }
   ],
   "source": [
    "desc = dict(titanic.groupby('class').size().describe())\n",
    "list_titanic = list(titanic['class'].value_counts())\n",
    "\n",
    "total_amplitude, interquart_amplitude, list_dict, standard_deviation = (desc['max']-desc['min'], \n",
    "                                                                        desc['75%']-desc['25%'], \n",
    "                                                                        [desc['75%'],desc['25%']],\n",
    "                                                                       desc['std'])                                     \n",
    "semi_interq_ampl = (list_dict[0]-list_dict[1])/(len(list_dict))\n",
    "series_list = pd.Series(list_titanic)\n",
    "mean_deviation, variance_value, coef_variation = (series_list.mad(), \n",
    "                                                  st.variance(list_titanic), \n",
    "                                                  (standard_deviation)/(st.mean(list_titanic)))\n",
    "\n",
    "df_result = pd.DataFrame([('Total Amplitude', total_amplitude),\n",
    "                          ('Interquart. Ampli.', interquart_amplitude),\n",
    "                          ('semi-interquar. Ampl.', semi_interq_ampl),\n",
    "                          ('Mean Deviation', mean_deviation),\n",
    "                          ('Standard Deviation', standard_deviation),\n",
    "                          ('Variance', variance_value),\n",
    "                          ('Coefficient Variation', coef_variation)],\n",
    "                         columns=['Dispersion Metric', 'Result'])\n",
    "df_result"
   ]
  },
  {
   "cell_type": "markdown",
   "metadata": {},
   "source": [
    "##    Exercício 10. Determine e interprete as medidas de assimetria e curtose para classe no Titanic"
   ]
  },
  {
   "cell_type": "code",
   "execution_count": 14,
   "metadata": {},
   "outputs": [
    {
     "name": "stdout",
     "output_type": "stream",
     "text": [
      "A medida de assimetria é: Assimétrica negativa! \n",
      " Resultado: -1.1504159469902164\n"
     ]
    }
   ],
   "source": [
    "# coeficiente de Pearson = (média - moda) / desvio padrão\n",
    "def getMode():\n",
    "    list_mode = list(titanic['class'].mode())\n",
    "    list_mode = list(titanic[titanic['class'] == list_mode[0]].groupby('class').size())\n",
    "    return list_mode[0]\n",
    "\n",
    "def getStandardDeviation():\n",
    "    desc = dict(titanic.groupby('class').size().describe())\n",
    "    return desc['std']\n",
    "\n",
    "mean_value = titanic.groupby('class').size().mean()\n",
    "mode_value = getMode()\n",
    "stand_deviation = getStandardDeviation()\n",
    "median_value = titanic.groupby('class').size().median()\n",
    "\n",
    "coef_pearson = (mean_value - mode_value)/(stand_deviation)\n",
    "\n",
    "if (coef_pearson == 0) or (mean_value == median_value and median_value == mode_value):\n",
    "    print('A medida de assimetria é: simétrica! \\n Resultado: {}'.format(coef_pearson))\n",
    "elif (coef_pearson < 0) or (mean_value <= median_value and median_value <= mode_value):\n",
    "    print('A medida de assimetria é: Assimétrica negativa! \\n Resultado: {}'.format(coef_pearson))\n",
    "elif (coef_pearson > 0) or (mean_value <= median_value and median_value <= mode_value):\n",
    "    print('A medida de assimetria é: Assimétrica positiva! \\n Resultado: {}'.format(coef_pearson))"
   ]
  },
  {
   "cell_type": "code",
   "execution_count": 15,
   "metadata": {},
   "outputs": [
    {
     "name": "stdout",
     "output_type": "stream",
     "text": [
      "A distribuição referente ao grau de achatamento é Platicúrtica! \n",
      " Curtose = 0.31249999999999994\n"
     ]
    }
   ],
   "source": [
    "# curtose = (Quartil3 - Quartil1)/ 2* (Percentil90-Percentil10)\n",
    "def getTotalAmplitude():\n",
    "    desc = dict(titanic.groupby('class').size().describe())\n",
    "    q3 = desc['75%']\n",
    "    q1 = desc['25%']\n",
    "    return q3 - q1\n",
    "\n",
    "total_amplitude = getTotalAmplitude()\n",
    "p90 = np.percentile(list(titanic['class'].value_counts()), 90)\n",
    "p10 = np.percentile(list(titanic['class'].value_counts()),10)\n",
    "\n",
    "k = (total_amplitude)/(2 * (p90 - p10))\n",
    "\n",
    "if (k < 0.263):\n",
    "    print('A distribuição referente ao grau de achatamento é Leptocúrtica! \\n Curtose = {}'.format(k))\n",
    "elif (k == 0.263):\n",
    "    print('A distribuição referente ao grau de achatamento é Mesocúrtica! \\n Curtose = {}'.format(k))\n",
    "else:\n",
    "    print('A distribuição referente ao grau de achatamento é Platicúrtica! \\n Curtose = {}'.format(k))"
   ]
  },
  {
   "cell_type": "markdown",
   "metadata": {},
   "source": [
    "##    Exercício 11. Faça o gráfico Box Plot para classe no Titanic"
   ]
  },
  {
   "cell_type": "code",
   "execution_count": 16,
   "metadata": {},
   "outputs": [
    {
     "name": "stdout",
     "output_type": "stream",
     "text": [
      "3rd class    706\n",
      "1st class    325\n",
      "2nd class    285\n",
      "Name: class, dtype: int64\n"
     ]
    },
    {
     "data": {
      "image/png": "[encoded data removed]",
      "text/plain": [
       "<Figure size 432x288 with 1 Axes>"
      ]
     },
     "metadata": {},
     "output_type": "display_data"
    }
   ],
   "source": [
    "print(titanic['class'].value_counts())\n",
    "titanic['class'].value_counts().plot(kind='box', title='Class Box Graph', fontsize=12)\n",
    "plt.grid(axis='y')\n",
    "plt.ylim(200,800)\n",
    "plt.ylabel('Absolute Frequency')\n",
    "plt.show()"
   ]
  },
  {
   "cell_type": "code",
   "execution_count": null,
   "metadata": {},
   "outputs": [],
   "source": []
  }
 ],
 "metadata": {
  "kernelspec": {
   "display_name": "Python 3",
   "language": "python",
   "name": "python3"
  },
  "language_info": {
   "codemirror_mode": {
    "name": "ipython",
    "version": 3
   },
   "file_extension": ".py",
   "mimetype": "text/x-python",
   "name": "python",
   "nbconvert_exporter": "python",
   "pygments_lexer": "ipython3",
   "version": "3.6.5"
  }
 },
 "nbformat": 4,
 "nbformat_minor": 2
}
